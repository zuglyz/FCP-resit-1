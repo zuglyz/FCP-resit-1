{
 "cells": [
  {
   "cell_type": "code",
   "execution_count": null,
   "metadata": {},
   "outputs": [],
   "source": [
    "My repository contains various functions.\n",
    "\n",
    "The main functions are the euler and rk4 functions which solve ordinary differential equations (ODEs) using Euler's Method and the RK4 Method.\n",
    "\n",
    "I also created a solveto function which allows the user to choose which method they would like to be used when solving an ODE.\n",
    "My functions are designed with inputs that allows the user to write the initial conditions.\n",
    "For the solveto function, we have to import all functions that are included in the main code under odesolve. In order to import all functions, I used the asterick sign (*).\n",
    "\n",
    "Under the numpy_and_graphs file, I edited the existing euler and rk4 functions in order to use a numpy array to collect all values of the x and y variables at each step so that they can be plotted in a scatter graph. \n",
    "Examples of these functions being tested out will be submitted probably on blackboard. \n",
    "For the updated euler and rk4 functions, I had to import numpy and matplotlib in order to create the scatterplot. \n",
    "    \n",
    "    \n",
    "    "
   ]
  }
 ],
 "metadata": {
  "kernelspec": {
   "display_name": "Python 3",
   "language": "python",
   "name": "python3"
  },
  "language_info": {
   "codemirror_mode": {
    "name": "ipython",
    "version": 3
   },
   "file_extension": ".py",
   "mimetype": "text/x-python",
   "name": "python",
   "nbconvert_exporter": "python",
   "pygments_lexer": "ipython3",
   "version": "3.8.3"
  }
 },
 "nbformat": 4,
 "nbformat_minor": 4
}
